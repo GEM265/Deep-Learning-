{
  "nbformat": 4,
  "nbformat_minor": 0,
  "metadata": {
    "colab": {
      "provenance": [],
      "authorship_tag": "ABX9TyM+yWiB97nnVYtJqlvNy0BT",
      "include_colab_link": true
    },
    "kernelspec": {
      "name": "python3",
      "display_name": "Python 3"
    },
    "language_info": {
      "name": "python"
    }
  },
  "cells": [
    {
      "cell_type": "markdown",
      "metadata": {
        "id": "view-in-github",
        "colab_type": "text"
      },
      "source": [
        "<a href=\"https://colab.research.google.com/github/GEM265/Deep-Learning-/blob/main/Assignment1.ipynb\" target=\"_parent\"><img src=\"https://colab.research.google.com/assets/colab-badge.svg\" alt=\"Open In Colab\"/></a>"
      ]
    },
    {
      "cell_type": "code",
      "execution_count": null,
      "metadata": {
        "colab": {
          "base_uri": "https://localhost:8080/",
          "height": 524
        },
        "id": "rPd-A5eRNg-f",
        "outputId": "77e819dc-e22d-450e-bb66-c8937e97b1e4"
      },
      "outputs": [
        {
          "output_type": "display_data",
          "data": {
            "text/plain": [
              "<Figure size 640x480 with 1 Axes>"
            ],
            "image/png": "[encoded data removed]"
          },
          "metadata": {}
        },
        {
          "output_type": "stream",
          "name": "stdout",
          "text": [
            "AND Results:  [0, 0, 0, 1]\n",
            "OR Results:  [0, 1, 1, 1]\n",
            "XOR Results:  [0, 1, 1, 0]\n"
          ]
        }
      ],
      "source": [
        "import matplotlib.pyplot as plt\n",
        "\n",
        "# Step 1: Plot the four input data samples\n",
        "inputs = [(0, 0), (0, 1), (1, 0), (1, 1)]\n",
        "x_values = [input[0] for input in inputs]\n",
        "y_values = [input[1] for input in inputs]\n",
        "\n",
        "plt.scatter(x_values, y_values)\n",
        "plt.xlabel('Input 1')\n",
        "plt.ylabel('Input 2')\n",
        "plt.title('Input Data Samples')\n",
        "plt.grid(True)\n",
        "plt.show()\n",
        "\n",
        "# Step 2: Function for AND operation\n",
        "def and_operation(input1, input2):\n",
        "    if input1 == 1 and input2 == 1:\n",
        "        return 1\n",
        "    else:\n",
        "        return 0\n",
        "# Step 3.1: Function for OR operation\n",
        "def or_operation(input1, input2):\n",
        "    if input1 == 1 or input2 == 1:\n",
        "        return 1\n",
        "    else:\n",
        "        return 0\n",
        "# Step 3.2: Function for XOR operation\n",
        "def xor_operation(input1, input2):\n",
        "    if input1 == input2:\n",
        "        return 0\n",
        "    else:\n",
        "        return 1\n",
        "#Step 5: Store the output of each function in a separate list/array.\n",
        "and_result = []\n",
        "or_result = []\n",
        "xor_result = []\n",
        "# Step 4: Create for loop to call the three functions each for data sample each time\n",
        "for input_sample in inputs:\n",
        "  input1, input2 = input_sample\n",
        "  and_result.append(and_operation(input1, input2))\n",
        "  or_result.append(or_operation(input1, input2))\n",
        "  xor_result.append(xor_operation(input1, input2))\n",
        "# Step 6: Print out the results for the three functions at the end of your program\n",
        "print(\"AND Results: \", and_result)\n",
        "print(\"OR Results: \", or_result)\n",
        "print(\"XOR Results: \", xor_result)"
      ]
    },
    {
      "cell_type": "code",
      "source": [
        "https://colab.research.google.com/drive/16ntJcOy21Bsf17h4qC4WatBCUi5WFwR6?usp=sharing"
      ],
      "metadata": {
        "id": "MjSH5t6ARZcJ"
      },
      "execution_count": null,
      "outputs": []
    }
  ]
}